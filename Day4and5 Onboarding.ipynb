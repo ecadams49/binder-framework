{
 "cells": [
  {
   "cell_type": "code",
   "execution_count": 1,
   "id": "ed1251e3",
   "metadata": {},
   "outputs": [],
   "source": [
    "import pandas as pd"
   ]
  },
  {
   "cell_type": "code",
   "execution_count": 2,
   "id": "20aee978",
   "metadata": {},
   "outputs": [
    {
     "name": "stdout",
     "output_type": "stream",
     "text": [
      "<class 'pandas.core.frame.DataFrame'>\n",
      "RangeIndex: 450 entries, 0 to 449\n",
      "Data columns (total 26 columns):\n",
      " #   Column                                     Non-Null Count  Dtype  \n",
      "---  ------                                     --------------  -----  \n",
      " 0   Company Name                               450 non-null    object \n",
      " 1   company contact                            450 non-null    object \n",
      " 2   company email                              433 non-null    object \n",
      " 3   company phone                              450 non-null    object \n",
      " 4   Address                                    450 non-null    object \n",
      " 5   City                                       450 non-null    object \n",
      " 6   State                                      450 non-null    object \n",
      " 7   Postcode                                   450 non-null    int64  \n",
      " 8   Industry                                   450 non-null    object \n",
      " 9   Industry descr                             434 non-null    object \n",
      " 10  Company Type                               450 non-null    object \n",
      " 11  Current fulltime                           446 non-null    float64\n",
      " 12  Job created                                11 non-null     float64\n",
      " 13  Job retain                                 14 non-null     float64\n",
      " 14  Effective Date                             450 non-null    object \n",
      " 15  Total Savings                              450 non-null    float64\n",
      " 16  Savings from beginning receiving benefits  450 non-null    float64\n",
      " 17  Borough                                    450 non-null    object \n",
      " 18  Latitude                                   409 non-null    float64\n",
      " 19  Longitude                                  409 non-null    float64\n",
      " 20  Community Board                            409 non-null    float64\n",
      " 21  Council District                           409 non-null    float64\n",
      " 22  Census Tract                               409 non-null    float64\n",
      " 23  BIN                                        401 non-null    float64\n",
      " 24  BBL                                        401 non-null    float64\n",
      " 25  NTA                                        409 non-null    object \n",
      "dtypes: float64(12), int64(1), object(13)\n",
      "memory usage: 91.5+ KB\n"
     ]
    }
   ],
   "source": [
    "FileName=\"Value_of_Energy_Cost_Savings_Program_Savings_for_Businesses_-_FY2020.csv\"\n",
    "DataSet=pd.read_csv(FileName)\n",
    "DataSet.info()"
   ]
  },
  {
   "cell_type": "markdown",
   "id": "69f4204d",
   "metadata": {},
   "source": [
    "### How Many Different Companies are Represented in the Data Set?"
   ]
  },
  {
   "cell_type": "code",
   "execution_count": 3,
   "id": "96202229",
   "metadata": {},
   "outputs": [
    {
     "data": {
      "text/plain": [
       "439"
      ]
     },
     "execution_count": 3,
     "metadata": {},
     "output_type": "execute_result"
    }
   ],
   "source": [
    "DataSet[\"Company Name\"].str.lower().drop_duplicates().count()"
   ]
  },
  {
   "cell_type": "markdown",
   "id": "c1e787d5",
   "metadata": {},
   "source": [
    "### What is the total number of jobs created for businesses in (the City of) Queens?"
   ]
  },
  {
   "cell_type": "code",
   "execution_count": 4,
   "id": "887896ac",
   "metadata": {},
   "outputs": [
    {
     "data": {
      "text/plain": [
       "90.0"
      ]
     },
     "execution_count": 4,
     "metadata": {},
     "output_type": "execute_result"
    }
   ],
   "source": [
    "DataSet[DataSet['City'].str.lower()==\"queens\"][\"Job created\"].sum()"
   ]
  },
  {
   "cell_type": "markdown",
   "id": "c6db681f",
   "metadata": {},
   "source": [
    "### What is the total number of jobs created for businesses in (the Borough of) Queens?"
   ]
  },
  {
   "cell_type": "code",
   "execution_count": 5,
   "id": "96eff6dd",
   "metadata": {},
   "outputs": [
    {
     "data": {
      "text/plain": [
       "102.0"
      ]
     },
     "execution_count": 5,
     "metadata": {},
     "output_type": "execute_result"
    }
   ],
   "source": [
    "DataSet[DataSet['Borough'].str.lower()==\"queens\"][\"Job created\"].sum()"
   ]
  },
  {
   "cell_type": "markdown",
   "id": "80dafe3c",
   "metadata": {},
   "source": [
    "### How many different unique email domains names are there in the data set?"
   ]
  },
  {
   "cell_type": "code",
   "execution_count": 6,
   "id": "19cfb3b6",
   "metadata": {},
   "outputs": [
    {
     "data": {
      "text/plain": [
       "356"
      ]
     },
     "execution_count": 6,
     "metadata": {},
     "output_type": "execute_result"
    }
   ],
   "source": [
    "DataSet[\"company email\"].dropna().str.lower().str.split('@',expand=True)[1].drop_duplicates().dropna().count()"
   ]
  },
  {
   "cell_type": "markdown",
   "id": "7418d732",
   "metadata": {},
   "source": [
    "### What is the average total savings and the total jobs created for each NTA with at least 5 listed businesses?"
   ]
  },
  {
   "cell_type": "code",
   "execution_count": 7,
   "id": "82240edf",
   "metadata": {
    "scrolled": true
   },
   "outputs": [
    {
     "data": {
      "text/html": [
       "<div>\n",
       "<style scoped>\n",
       "    .dataframe tbody tr th:only-of-type {\n",
       "        vertical-align: middle;\n",
       "    }\n",
       "\n",
       "    .dataframe tbody tr th {\n",
       "        vertical-align: top;\n",
       "    }\n",
       "\n",
       "    .dataframe thead th {\n",
       "        text-align: right;\n",
       "    }\n",
       "</style>\n",
       "<table border=\"1\" class=\"dataframe\">\n",
       "  <thead>\n",
       "    <tr style=\"text-align: right;\">\n",
       "      <th></th>\n",
       "      <th>Average Total Savings</th>\n",
       "      <th>Total Jobs Created</th>\n",
       "    </tr>\n",
       "    <tr>\n",
       "      <th>NTA</th>\n",
       "      <th></th>\n",
       "      <th></th>\n",
       "    </tr>\n",
       "  </thead>\n",
       "  <tbody>\n",
       "    <tr>\n",
       "      <th>Battery Park City-Lower Manhattan</th>\n",
       "      <td>469890.796667</td>\n",
       "      <td>0.0</td>\n",
       "    </tr>\n",
       "    <tr>\n",
       "      <th>Bushwick South</th>\n",
       "      <td>26140.455000</td>\n",
       "      <td>10.0</td>\n",
       "    </tr>\n",
       "    <tr>\n",
       "      <th>Carroll Gardens-Columbia Street-Red Hook</th>\n",
       "      <td>24337.390000</td>\n",
       "      <td>0.0</td>\n",
       "    </tr>\n",
       "    <tr>\n",
       "      <th>College Point</th>\n",
       "      <td>17159.372857</td>\n",
       "      <td>2.0</td>\n",
       "    </tr>\n",
       "    <tr>\n",
       "      <th>Crown Heights North</th>\n",
       "      <td>4036.298889</td>\n",
       "      <td>0.0</td>\n",
       "    </tr>\n",
       "    <tr>\n",
       "      <th>DUMBO-Vinegar Hill-Downtown Brooklyn-Boerum Hill</th>\n",
       "      <td>59950.340000</td>\n",
       "      <td>0.0</td>\n",
       "    </tr>\n",
       "    <tr>\n",
       "      <th>East New York</th>\n",
       "      <td>48433.093333</td>\n",
       "      <td>15.0</td>\n",
       "    </tr>\n",
       "    <tr>\n",
       "      <th>East Williamsburg</th>\n",
       "      <td>13990.626364</td>\n",
       "      <td>0.0</td>\n",
       "    </tr>\n",
       "    <tr>\n",
       "      <th>Greenpoint</th>\n",
       "      <td>9753.649286</td>\n",
       "      <td>0.0</td>\n",
       "    </tr>\n",
       "    <tr>\n",
       "      <th>Hunters Point-Sunnyside-West Maspeth</th>\n",
       "      <td>23931.398933</td>\n",
       "      <td>0.0</td>\n",
       "    </tr>\n",
       "    <tr>\n",
       "      <th>Hunts Point</th>\n",
       "      <td>39246.016154</td>\n",
       "      <td>12.0</td>\n",
       "    </tr>\n",
       "    <tr>\n",
       "      <th>Manhattanville</th>\n",
       "      <td>2760.888889</td>\n",
       "      <td>0.0</td>\n",
       "    </tr>\n",
       "    <tr>\n",
       "      <th>Maspeth</th>\n",
       "      <td>6658.283333</td>\n",
       "      <td>10.0</td>\n",
       "    </tr>\n",
       "    <tr>\n",
       "      <th>Mott Haven-Port Morris</th>\n",
       "      <td>17843.937857</td>\n",
       "      <td>10.0</td>\n",
       "    </tr>\n",
       "    <tr>\n",
       "      <th>Queensbridge-Ravenswood-Long Island City</th>\n",
       "      <td>61830.770625</td>\n",
       "      <td>0.0</td>\n",
       "    </tr>\n",
       "    <tr>\n",
       "      <th>SoHo-TriBeCa-Civic Center-Little Italy</th>\n",
       "      <td>37214.024000</td>\n",
       "      <td>0.0</td>\n",
       "    </tr>\n",
       "    <tr>\n",
       "      <th>Springfield Gardens South-Brookville</th>\n",
       "      <td>17757.662000</td>\n",
       "      <td>0.0</td>\n",
       "    </tr>\n",
       "    <tr>\n",
       "      <th>Steinway</th>\n",
       "      <td>11227.155714</td>\n",
       "      <td>20.0</td>\n",
       "    </tr>\n",
       "    <tr>\n",
       "      <th>Sunset Park West</th>\n",
       "      <td>14316.976875</td>\n",
       "      <td>0.0</td>\n",
       "    </tr>\n",
       "    <tr>\n",
       "      <th>park-cemetery-etc-Brooklyn</th>\n",
       "      <td>14327.419333</td>\n",
       "      <td>0.0</td>\n",
       "    </tr>\n",
       "  </tbody>\n",
       "</table>\n",
       "</div>"
      ],
      "text/plain": [
       "                                                  Average Total Savings  \\\n",
       "NTA                                                                       \n",
       "Battery Park City-Lower Manhattan                         469890.796667   \n",
       "Bushwick South                                             26140.455000   \n",
       "Carroll Gardens-Columbia Street-Red Hook                   24337.390000   \n",
       "College Point                                              17159.372857   \n",
       "Crown Heights North                                         4036.298889   \n",
       "DUMBO-Vinegar Hill-Downtown Brooklyn-Boerum Hill           59950.340000   \n",
       "East New York                                              48433.093333   \n",
       "East Williamsburg                                          13990.626364   \n",
       "Greenpoint                                                  9753.649286   \n",
       "Hunters Point-Sunnyside-West Maspeth                       23931.398933   \n",
       "Hunts Point                                                39246.016154   \n",
       "Manhattanville                                              2760.888889   \n",
       "Maspeth                                                     6658.283333   \n",
       "Mott Haven-Port Morris                                     17843.937857   \n",
       "Queensbridge-Ravenswood-Long Island City                   61830.770625   \n",
       "SoHo-TriBeCa-Civic Center-Little Italy                     37214.024000   \n",
       "Springfield Gardens South-Brookville                       17757.662000   \n",
       "Steinway                                                   11227.155714   \n",
       "Sunset Park West                                           14316.976875   \n",
       "park-cemetery-etc-Brooklyn                                 14327.419333   \n",
       "\n",
       "                                                  Total Jobs Created  \n",
       "NTA                                                                   \n",
       "Battery Park City-Lower Manhattan                                0.0  \n",
       "Bushwick South                                                  10.0  \n",
       "Carroll Gardens-Columbia Street-Red Hook                         0.0  \n",
       "College Point                                                    2.0  \n",
       "Crown Heights North                                              0.0  \n",
       "DUMBO-Vinegar Hill-Downtown Brooklyn-Boerum Hill                 0.0  \n",
       "East New York                                                   15.0  \n",
       "East Williamsburg                                                0.0  \n",
       "Greenpoint                                                       0.0  \n",
       "Hunters Point-Sunnyside-West Maspeth                             0.0  \n",
       "Hunts Point                                                     12.0  \n",
       "Manhattanville                                                   0.0  \n",
       "Maspeth                                                         10.0  \n",
       "Mott Haven-Port Morris                                          10.0  \n",
       "Queensbridge-Ravenswood-Long Island City                         0.0  \n",
       "SoHo-TriBeCa-Civic Center-Little Italy                           0.0  \n",
       "Springfield Gardens South-Brookville                             0.0  \n",
       "Steinway                                                        20.0  \n",
       "Sunset Park West                                                 0.0  \n",
       "park-cemetery-etc-Brooklyn                                       0.0  "
      ]
     },
     "execution_count": 7,
     "metadata": {},
     "output_type": "execute_result"
    }
   ],
   "source": [
    "function_dict={\"Total Savings\":'mean',\"Job created\":'sum',\"NTA\": 'count'}\n",
    "New_Col_Names={\"Total Savings\":'Average Total Savings',\"Job created\":'Total Jobs Created'}\n",
    "df=DataSet.groupby('NTA').aggregate(function_dict)\n",
    "df1=df.rename(columns=New_Col_Names)\n",
    "df2=df1[df1['NTA']>=5][['Average Total Savings','Total Jobs Created']]\n",
    "df2"
   ]
  },
  {
   "cell_type": "markdown",
   "id": "1856d700",
   "metadata": {},
   "source": [
    "### Saving the result of the previous question as a CSV file."
   ]
  },
  {
   "cell_type": "code",
   "execution_count": 8,
   "id": "596ad2c2",
   "metadata": {},
   "outputs": [],
   "source": [
    "df2.to_csv('Day4Question5.csv')"
   ]
  },
  {
   "cell_type": "markdown",
   "id": "a615d93d",
   "metadata": {},
   "source": [
    "### Day 5 - Plots"
   ]
  },
  {
   "cell_type": "code",
   "execution_count": 9,
   "id": "39fc9e8b",
   "metadata": {},
   "outputs": [],
   "source": [
    "import matplotlib.pyplot as plt"
   ]
  },
  {
   "cell_type": "code",
   "execution_count": 10,
   "id": "99664a0f",
   "metadata": {},
   "outputs": [
    {
     "data": {
      "text/plain": [
       "<matplotlib.collections.PathCollection at 0x17ff4ea13a0>"
      ]
     },
     "execution_count": 10,
     "metadata": {},
     "output_type": "execute_result"
    },
    {
     "data": {
      "image/png": "[encoded data removed]",
      "text/plain": [
       "<Figure size 432x288 with 1 Axes>"
      ]
     },
     "metadata": {
      "needs_background": "light"
     },
     "output_type": "display_data"
    }
   ],
   "source": [
    "YLabel='Total Jobs Created'\n",
    "XLabel='Average Total Savings'\n",
    "\n",
    "Y=df1[YLabel]\n",
    "X=df1[XLabel]\n",
    "Title=\"Day 5 Scatter Plot\"\n",
    "\n",
    "plt.ylabel(YLabel)\n",
    "plt.xlabel(XLabel)\n",
    "plt.title(Title)\n",
    "\n",
    "plt.scatter(X,Y)"
   ]
  },
  {
   "cell_type": "code",
   "execution_count": 11,
   "id": "3addca27",
   "metadata": {},
   "outputs": [
    {
     "data": {
      "image/png": "[encoded data removed]",
      "text/plain": [
       "<Figure size 432x288 with 1 Axes>"
      ]
     },
     "metadata": {
      "needs_background": "light"
     },
     "output_type": "display_data"
    }
   ],
   "source": [
    "Title=\"Day 5 Log Scatter Plot\"\n",
    "\n",
    "plt.ylabel(YLabel)\n",
    "plt.xlabel(\"Log of \" + XLabel)\n",
    "plt.title(Title)\n",
    "\n",
    "plt.scatter(X,Y)\n",
    "plt.xscale('log')"
   ]
  },
  {
   "cell_type": "code",
   "execution_count": 12,
   "id": "5b3a5e9e",
   "metadata": {},
   "outputs": [
    {
     "data": {
      "image/png": "[encoded data removed]",
      "text/plain": [
       "<Figure size 432x288 with 1 Axes>"
      ]
     },
     "metadata": {
      "needs_background": "light"
     },
     "output_type": "display_data"
    }
   ],
   "source": [
    "Title=\"Day 5 Log Histogram\"\n",
    "\n",
    "plt.ylabel('Frequency')\n",
    "plt.xlabel(\"Log of \" + XLabel)\n",
    "plt.title(Title)\n",
    "\n",
    "plt.hist(X)\n",
    "plt.xscale('log')"
   ]
  },
  {
   "cell_type": "code",
   "execution_count": 13,
   "id": "7bd85d42",
   "metadata": {
    "scrolled": true
   },
   "outputs": [
    {
     "data": {
      "text/plain": [
       "[<matplotlib.lines.Line2D at 0x17ff68c6310>]"
      ]
     },
     "execution_count": 13,
     "metadata": {},
     "output_type": "execute_result"
    },
    {
     "data": {
      "image/png": "[encoded data removed]",
      "text/plain": [
       "<Figure size 432x288 with 1 Axes>"
      ]
     },
     "metadata": {
      "needs_background": "light"
     },
     "output_type": "display_data"
    }
   ],
   "source": [
    "function={'Job created':\"sum\"}\n",
    "dfED=DataSet.groupby('Effective Date').aggregate(function)\n",
    "dfED['EffDate']=pd.to_datetime(dfED.index)\n",
    "sorted_dfED=dfED.sort_values(['EffDate'])\n",
    "\n",
    "plt.ylabel('Total Jobs Created')\n",
    "plt.xlabel('Effective Date')\n",
    "plt.title(\"Day 5 Line Plot\")\n",
    "plt.plot(sorted_dfED['EffDate'],dfED['Job created'])"
   ]
  }
 ],
 "metadata": {
  "kernelspec": {
   "display_name": "Python 3 (ipykernel)",
   "language": "python",
   "name": "python3"
  },
  "language_info": {
   "codemirror_mode": {
    "name": "ipython",
    "version": 3
   },
   "file_extension": ".py",
   "mimetype": "text/x-python",
   "name": "python",
   "nbconvert_exporter": "python",
   "pygments_lexer": "ipython3",
   "version": "3.9.7"
  }
 },
 "nbformat": 4,
 "nbformat_minor": 5
}
